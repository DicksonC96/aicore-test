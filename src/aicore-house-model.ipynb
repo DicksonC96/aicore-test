{
 "cells": [
  {
   "cell_type": "code",
   "execution_count": null,
   "metadata": {},
   "outputs": [],
   "source": [
    "# Load Library\n",
    "from ai_core_sdk.ai_core_v2_client import AICoreV2Client\n",
    "\n",
    "# Create Connection\n",
    "ai_core_client = AICoreV2Client(\n",
    "    base_url = \"https://api.ai.prod.us-east-1.aws.ml.hana.ondemand.com\" + \"/v2\", # The present SAP AI Core API version is 2\n",
    "    auth_url=  \"https://eyts-developer-z8opke6n.authentication.us10.hana.ondemand.com\" + \"/oauth/token\", # Suffix to add\n",
    "    client_id = YOUR_CLIENT_ID,\n",
    "    client_secret = YOUR_CLIENT_SECRET\n",
    ")"
   ]
  },
  {
   "cell_type": "code",
   "execution_count": null,
   "metadata": {},
   "outputs": [],
   "source": [
    "'''# Create object Store secret\n",
    "response = ai_core_client.object_store_secrets.create(\n",
    "    name = \"s3housepricedc\", # identifier for this secret within your SAP AI Core\n",
    "    path_prefix = \"example-dataset/house-price-toy\", # path that we want to limit restrict this secret access to\n",
    "    type = \"S3\",\n",
    "    data = { # Dictionary of credentials of AWS\n",
    "        \"AWS_ACCESS_KEY_ID\": YOUR_ACCESS_KEY,\n",
    "        \"AWS_SECRET_ACCESS_KEY\": YOUR_ACCESS_SECRET\n",
    "    },\n",
    "    bucket = \"sap-aicore-test\", # Edit this\n",
    "    region = \"us-east-1\", # Edit this\n",
    "    endpoint = \"s3.amazonaws.com\", # Edit this\n",
    "    resource_group = \"default\" # object store secret are restricted within this resource group. you may change this when creating secret for another resource group.\n",
    ")\n",
    "print(response.__dict__)\n",
    "'''"
   ]
  },
  {
   "cell_type": "code",
   "execution_count": null,
   "metadata": {},
   "outputs": [],
   "source": [
    "'''# Create Artifact\n",
    "from ai_api_client_sdk.models.artifact import Artifact\n",
    "from ai_api_client_sdk.models.label import Label\n",
    "\n",
    "response = ai_core_client.artifact.create(\n",
    "    name = \"House Price Dataset DC v2\", # Custom Non-unqiue identifier\n",
    "    kind = Artifact.Kind.DATASET,\n",
    "    url = \"ai://s3housepricedc/data/jan\", #\n",
    "    scenario_id = \"learning-datalines-dc\",\n",
    "    description = \"Prices in the month of Jan\",\n",
    "    labels = [\n",
    "        Label(key=\"ext.ai.sap.com/month\", value=\"Jan\"), # any descriptive key-value pair, helps in filtering, key must have the prefix ext.ai.sap.com/\n",
    "    ],\n",
    "    resource_group = \"default\" # required to restrict object store secret usage within a resource group\n",
    ")\n",
    "\n",
    "print(response.__dict__)'''"
   ]
  },
  {
   "cell_type": "code",
   "execution_count": null,
   "metadata": {},
   "outputs": [],
   "source": [
    "'''# Create Artifact (Feb)\n",
    "from ai_api_client_sdk.models.artifact import Artifact\n",
    "from ai_api_client_sdk.models.label import Label\n",
    "\n",
    "response = ai_core_client.artifact.create(\n",
    "    name = \"House Price Dataset DC v2 Feb\", # Custom Non-unqiue identifier\n",
    "    kind = Artifact.Kind.DATASET,\n",
    "    url = \"ai://s3housepricedc/data/feb\", #\n",
    "    scenario_id = \"learning-datalines-dc\",\n",
    "    description = \"Prices in the month of Feb\",\n",
    "    labels = [\n",
    "        Label(key=\"ext.ai.sap.com/month\", value=\"Feb\"), # any descriptive key-value pair, helps in filtering, key must have the prefix ext.ai.sap.com/\n",
    "    ],\n",
    "    resource_group = \"default\" # required to restrict object store secret usage within a resource group\n",
    ")\n",
    "\n",
    "print(response.__dict__)'''"
   ]
  },
  {
   "cell_type": "code",
   "execution_count": null,
   "metadata": {},
   "outputs": [],
   "source": [
    "'''#Use Artifacts with workflows using a configuration\n",
    "from ai_api_client_sdk.models.parameter_binding import ParameterBinding\n",
    "from ai_api_client_sdk.models.input_artifact_binding import InputArtifactBinding\n",
    "\n",
    "response = ai_core_client.configuration.create(\n",
    "    name = \"House Price January 1\",\n",
    "    scenario_id = \"learning-datalines\",\n",
    "    executable_id = \"data-pipeline\",\n",
    "    input_artifact_bindings = [\n",
    "        InputArtifactBinding(key = \"housedataset\", artifact_id = \"<YOUR_JAN_ARTIFACT_ID>\") # placeholder as name\n",
    "    ],\n",
    "    parameter_bindings = [\n",
    "        ParameterBinding(key = \"DT_MAX_DEPTH\", value = \"3\") # placeholder name as key\n",
    "    ],\n",
    "    resource_group = \"default\"\n",
    ")\n",
    "print(response.__dict__)\n",
    "'''"
   ]
  },
  {
   "cell_type": "code",
   "execution_count": null,
   "metadata": {},
   "outputs": [],
   "source": [
    "# Query Deployment Status\n",
    "DEPLOYMENT_ID = \"d575402dfd33b2cd\"\n",
    "\n",
    "response = ai_core_client.deployment.get(\n",
    "    deployment_id= DEPLOYMENT_ID,\n",
    "    resource_group=\"default\"\n",
    ")\n",
    "\n",
    "print('Status: ' + str(response.status) + '\\nStart Time: ' + str(response.__dict__['start_time']) + '\\nCompletion Time: ' + str(response.__dict__['completion_time']))\n",
    "DEPLOYMENT_URL = str(response.__dict__['deployment_url'])"
   ]
  },
  {
   "cell_type": "code",
   "execution_count": null,
   "metadata": {},
   "outputs": [],
   "source": [
    "#Make Prediction using PYTHON POST REST\n",
    "import requests\n",
    "\n",
    "# URL\n",
    "deployment_url = DEPLOYMENT_URL\n",
    "\n",
    "# Preparing the input for inference\n",
    "test_input = {\n",
    "    \"MedInc\": 8.3252,\n",
    "    \"HouseAge\": 41,\n",
    "    \"AveRooms\": 6.984126984,\n",
    "    \"AveBedrms\":1.023809524,\n",
    "    \"Population\":322,\n",
    "    \"AveOccup\": 2.555555556,\n",
    "    \"Latitude\":37.88,\n",
    "    \"Longitude\":-122.23\n",
    "}\n",
    "\n",
    "endpoint = f\"{deployment_url}/v2/predict\" # endpoint implemented in serving engine\n",
    "headers = {\"Authorization\": ai_core_client.rest_client.get_token(),\n",
    "           'ai-resource-group': \"default\",\n",
    "           \"Content-Type\": \"application/json\"}\n",
    "response = requests.post(endpoint, headers=headers, json=test_input)\n",
    "\n",
    "print('Inference result: $', response.json()[0]*100000)\n"
   ]
  }
 ],
 "metadata": {
  "kernelspec": {
   "display_name": "Python 3",
   "language": "python",
   "name": "python3"
  },
  "language_info": {
   "codemirror_mode": {
    "name": "ipython",
    "version": 3
   },
   "file_extension": ".py",
   "mimetype": "text/x-python",
   "name": "python",
   "nbconvert_exporter": "python",
   "pygments_lexer": "ipython3",
   "version": "3.11.4"
  },
  "orig_nbformat": 4
 },
 "nbformat": 4,
 "nbformat_minor": 2
}
