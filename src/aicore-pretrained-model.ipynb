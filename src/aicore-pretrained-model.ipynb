{
 "cells": [
  {
   "cell_type": "code",
   "execution_count": null,
   "metadata": {},
   "outputs": [],
   "source": [
    "# Load Library\n",
    "from ai_core_sdk.ai_core_v2_client import AICoreV2Client\n",
    "\n",
    "# Create Connection\n",
    "ai_core_client = AICoreV2Client(\n",
    "    base_url = \"https://api.ai.prod.us-east-1.aws.ml.hana.ondemand.com\" + \"/v2\", # The present SAP AI Core API version is 2\n",
    "    auth_url=  \"https://eyts-developer-z8opke6n.authentication.us10.hana.ondemand.com\" + \"/oauth/token\", # Suffix to add\n",
    "    client_id = YOUR_CLIENT_ID,\n",
    "    client_secret = YOUR_CLIENT_SECRET\n",
    ")"
   ]
  },
  {
   "cell_type": "code",
   "execution_count": null,
   "metadata": {},
   "outputs": [],
   "source": [
    "\"\"\"#Create Resource Group\n",
    "response = ai_core_client.resource_groups.create(\"tf-demo\")\"\"\""
   ]
  },
  {
   "cell_type": "code",
   "execution_count": null,
   "metadata": {},
   "outputs": [],
   "source": [
    "\"\"\"#List Resource Groups\n",
    "response = ai_core_client.resource_groups.query()\n",
    "\n",
    "for rg in response.resources:\n",
    "    print(rg.resource_group_id)\"\"\""
   ]
  },
  {
   "cell_type": "code",
   "execution_count": null,
   "metadata": {},
   "outputs": [],
   "source": [
    "\"\"\"response = ai_core_client.object_store_secrets.create(\n",
    "    resource_group = \"default\", #'tf-demo',\n",
    "    type = \"S3\",\n",
    "    name = \"my-s3-secret1\",\n",
    "    path_prefix = \"movie-clf\",\n",
    "    endpoint = \"s3-eu-central-1.amazonaws.com\", # Change this\n",
    "    bucket = \"asd-11111111-2222-3333-4444-55555555555\", # Change this\n",
    "    region = \"eu-central-1\", # Change this\n",
    "    data = {\n",
    "        \"AWS_ACCESS_KEY_ID\": \"ASDFASDFASDFASDF\", # Change this\n",
    "        \"AWS_SECRET_ACCESS_KEY\": \"asdfASDFqwerQWERasdfQWER\" # Change this\n",
    "    }\n",
    ")\n",
    "\n",
    "print(response.__dict__)\n",
    "\"\"\""
   ]
  },
  {
   "cell_type": "code",
   "execution_count": null,
   "metadata": {},
   "outputs": [],
   "source": [
    "#Create Model Artifact\n",
    "from ai_core_sdk.models import Artifact\n",
    "\n",
    "response = ai_core_client.artifact.create(\n",
    "    resource_group = 'default',\n",
    "    name = \"tf-txt-clf-model-dc\",\n",
    "    kind = Artifact.Kind.MODEL,\n",
    "    url = \"ai://s3movieclfdc/model\",\n",
    "    scenario_id = \"tf-text-clf-dc\",\n",
    "    description = \"Review Classification Model\"\n",
    ")\n",
    "\n",
    "print(response.__dict__)\n"
   ]
  },
  {
   "cell_type": "code",
   "execution_count": null,
   "metadata": {},
   "outputs": [],
   "source": [
    "# Query Deployment Status\n",
    "DEPLOYMENT_ID = \"????????????????\"\n",
    "\n",
    "response = ai_core_client.deployment.get(\n",
    "    deployment_id= DEPLOYMENT_ID,\n",
    "    resource_group=\"default\" #\"tf-demo\"\n",
    ")\n",
    "\n",
    "print('Status: ' + response.status + '\\nStart Time: ' + str(response.__dict__['start_time']) + '\\nCompletion Time: ' + str(response.__dict__['completion_time']))\n",
    "DEPLOYMENT_URL = str(response.__dict__['deployment_url'])"
   ]
  },
  {
   "cell_type": "code",
   "execution_count": null,
   "metadata": {},
   "outputs": [],
   "source": [
    "#Make Prediction using AI Core REST POST\n",
    "query_text = \"The story after the interval had predictable twist-turns.\"\n",
    "deployment_id = DEPLOYMENT_URL # Change this\n",
    "\n",
    "custom_endpoint = \"/v1/predict\"\n",
    "\n",
    "prediction = ai_core_client.rest_client.post(\n",
    "    resource_group = \"default\", #\"tf-demo\",\n",
    "    path = \"/inference/deployments/\" + deployment_id + custom_endpoint,\n",
    "    body = {\n",
    "        \"text\": query_text\n",
    "    }\n",
    ")\n",
    "\n",
    "print(prediction)\n"
   ]
  },
  {
   "cell_type": "code",
   "execution_count": null,
   "metadata": {},
   "outputs": [],
   "source": [
    "#Print log\n",
    "response = ai_core_client.deployment.query_logs(\n",
    "    resource_group = \"default\", #\"tf-demo\",\n",
    "    deployment_id = DEPLOYMENT_ID\n",
    ")\n",
    "\n",
    "for log in response.data.result:\n",
    "    print(log.msg)\n",
    "    print(\"---\")\n"
   ]
  }
 ],
 "metadata": {
  "kernelspec": {
   "display_name": "Python 3",
   "language": "python",
   "name": "python3"
  },
  "language_info": {
   "codemirror_mode": {
    "name": "ipython",
    "version": 3
   },
   "file_extension": ".py",
   "mimetype": "text/x-python",
   "name": "python",
   "nbconvert_exporter": "python",
   "pygments_lexer": "ipython3",
   "version": "3.11.4"
  },
  "orig_nbformat": 4
 },
 "nbformat": 4,
 "nbformat_minor": 2
}
